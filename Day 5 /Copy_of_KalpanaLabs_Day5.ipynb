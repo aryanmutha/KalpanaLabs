{
  "nbformat": 4,
  "nbformat_minor": 0,
  "metadata": {
    "colab": {
      "name": "Copy of KalpanaLabs_Day5.ipynb",
      "provenance": [],
      "include_colab_link": true
    },
    "kernelspec": {
      "name": "python3",
      "display_name": "Python 3"
    }
  },
  "cells": [
    {
      "cell_type": "markdown",
      "metadata": {
        "id": "view-in-github",
        "colab_type": "text"
      },
      "source": [
        "<a href=\"https://colab.research.google.com/github/aryanmutha/KalpanaLabs/blob/master/Day%205%20/Copy_of_KalpanaLabs_Day5.ipynb\" target=\"_parent\"><img src=\"https://colab.research.google.com/assets/colab-badge.svg\" alt=\"Open In Colab\"/></a>"
      ]
    },
    {
      "cell_type": "markdown",
      "metadata": {
        "id": "jpynT1Uex8yr",
        "colab_type": "text"
      },
      "source": [
        "# Strings and Word Problems "
      ]
    },
    {
      "cell_type": "markdown",
      "metadata": {
        "id": "FAn5TQ58yXrx",
        "colab_type": "text"
      },
      "source": [
        "## Add one string to another\n",
        "\n",
        "Adding strings is very simple! \n",
        "\n",
        "Just as we add numbers, we add strings!"
      ]
    },
    {
      "cell_type": "markdown",
      "metadata": {
        "id": "iiI_TWkpyvuP",
        "colab_type": "text"
      },
      "source": [
        "### How do we add two numbers?\n",
        "\n",
        "Add two random numbers of your choice \\(using variables\\) and then print the result \\(which is stored in an another variable\\)"
      ]
    },
    {
      "cell_type": "code",
      "metadata": {
        "id": "Bzln_Ax1x3Ke",
        "colab_type": "code",
        "colab": {
          "base_uri": "https://localhost:8080/",
          "height": 33
        },
        "outputId": "bf945958-0c57-4550-c4d7-93f754acc05c"
      },
      "source": [
        "a=20\n",
        "b=13\n",
        "ans=a+b\n",
        "print(a+b)"
      ],
      "execution_count": null,
      "outputs": [
        {
          "output_type": "stream",
          "text": [
            "33\n"
          ],
          "name": "stdout"
        }
      ]
    },
    {
      "cell_type": "markdown",
      "metadata": {
        "id": "QMdEpOWWzLYH",
        "colab_type": "text"
      },
      "source": [
        "### Adding strings\n",
        "\n",
        "Write two statements about your favorite IPL team and your favorite cricketer \\(store them in variables\\). Then add those sentences. Print the result."
      ]
    },
    {
      "cell_type": "code",
      "metadata": {
        "id": "N8QSj4mCzK6Q",
        "colab_type": "code",
        "colab": {
          "base_uri": "https://localhost:8080/",
          "height": 33
        },
        "outputId": "c3d541bc-eadb-487e-d3bc-9dd209260e69"
      },
      "source": [
        "a= \"My favorite team is Chennai Super Kings.\"\n",
        "b= \"My favourite cricketer is MS Dhoni.\"\n",
        "ans = (a+b)\n",
        "print(ans)"
      ],
      "execution_count": null,
      "outputs": [
        {
          "output_type": "stream",
          "text": [
            "My favorite team is Chennai Super Kings.My favourite cricketer is MS Dhoni.\n"
          ],
          "name": "stdout"
        }
      ]
    },
    {
      "cell_type": "markdown",
      "metadata": {
        "id": "YWh9NmF30U3f",
        "colab_type": "text"
      },
      "source": [
        "## Exercise\n",
        "\n",
        "Solve the following word problem. And then print the result in the format specified below.\n",
        "\n",
        "**Example**\n",
        "\n",
        "Nathan has a big ant farm. He decided to sell some of his ants. He started with 965 ants. He sold 213. How many ants does he have now?\n",
        "\n",
        "The answer to be printed should be: \"Nathan has 752 ants\""
      ]
    },
    {
      "cell_type": "markdown",
      "metadata": {
        "id": "81-geevI2HAt",
        "colab_type": "text"
      },
      "source": [
        "### Problem\n",
        "\n",
        "Melissa buys 2 packs of tennis balls for $12 in total. All together, there are 6 tennis balls. How much does 1 pack of tennis balls cost? How much does 1 tennis ball cost?"
      ]
    },
    {
      "cell_type": "code",
      "metadata": {
        "id": "4ECAqNgW2FQ2",
        "colab_type": "code",
        "colab": {
          "base_uri": "https://localhost:8080/",
          "height": 33
        },
        "outputId": "66d4172f-8dfc-4788-fc58-dddb32e5f5b1"
      },
      "source": [
        "a=12\n",
        "\n",
        "c=2\n",
        "ans=(a/c)\n",
        "print(ans)\n"
      ],
      "execution_count": null,
      "outputs": [
        {
          "output_type": "stream",
          "text": [
            "6.0\n"
          ],
          "name": "stdout"
        }
      ]
    },
    {
      "cell_type": "code",
      "metadata": {
        "id": "hPnjeMlcRGBm",
        "colab_type": "code",
        "colab": {
          "base_uri": "https://localhost:8080/",
          "height": 33
        },
        "outputId": "cc9d316a-b88e-4277-e158-7c3ba248532f"
      },
      "source": [
        "a=12\n",
        "b=6\n",
        "\n",
        "ans=a/b\n",
        "print(ans)"
      ],
      "execution_count": null,
      "outputs": [
        {
          "output_type": "stream",
          "text": [
            "2.0\n"
          ],
          "name": "stdout"
        }
      ]
    },
    {
      "cell_type": "code",
      "metadata": {
        "id": "UKbvdXz3S26k",
        "colab_type": "code",
        "colab": {}
      },
      "source": [
        ""
      ],
      "execution_count": null,
      "outputs": []
    }
  ]
}